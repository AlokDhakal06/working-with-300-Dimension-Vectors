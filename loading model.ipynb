{
 "cells": [
  {
   "cell_type": "code",
   "execution_count": 1,
   "metadata": {},
   "outputs": [],
   "source": [
    "# Importing the libraries\n",
    "import numpy as np\n",
    "import matplotlib.pyplot as plt\n",
    "import pandas as pd"
   ]
  },
  {
   "cell_type": "code",
   "execution_count": 2,
   "metadata": {},
   "outputs": [
    {
     "name": "stdout",
     "output_type": "stream",
     "text": [
      "enter question 1:how to get scholarship?\n",
      "enter question 2:how to write essay in english?\n"
     ]
    }
   ],
   "source": [
    "#input from user \n",
    "\n",
    "question1=input(\"enter question 1:\")\n",
    "question2=input(\"enter question 2:\")"
   ]
  },
  {
   "cell_type": "code",
   "execution_count": 3,
   "metadata": {},
   "outputs": [],
   "source": [
    "#calculation of features from the input question\n",
    "len_1=len(question1)\n",
    "len_2=len(question2)\n",
    "diff_len=len_1-len_2\n",
    "len_char_q1=len(''.join(set(str(question1).replace(' ', ''))))\n",
    "len_char_q2=len(''.join(set(str(question2).replace(' ', ''))))\n",
    "len_word_q1=len(str(question1).split())\n",
    "len_word_q2=len(str(question2).split())\n",
    "common_words=len(set(str(question1).lower().split()).intersection(set(str(question2).lower().split())))"
   ]
  },
  {
   "cell_type": "code",
   "execution_count": 4,
   "metadata": {},
   "outputs": [
    {
     "name": "stderr",
     "output_type": "stream",
     "text": [
      "c:\\users\\hk\\appdata\\local\\programs\\python\\python36\\lib\\site-packages\\fuzzywuzzy\\fuzz.py:35: UserWarning: Using slow pure-python SequenceMatcher. Install python-Levenshtein to remove this warning\n",
      "  warnings.warn('Using slow pure-python SequenceMatcher. Install python-Levenshtein to remove this warning')\n"
     ]
    }
   ],
   "source": [
    "#fuzzy\n",
    "from fuzzywuzzy import fuzz\n",
    "fuzz_qratio=fuzz.QRatio(str(question1), str(question2))\n",
    "fuzz_WRatio=fuzz.WRatio(str(question1), str(question2))\n",
    "fuzz_partial_ratio=fuzz.partial_ratio(str(question1), str(question2))\n",
    "fuzz_partial_token_set_ratio=fuzz.partial_token_set_ratio(str(question1), str(question2))\n",
    "fuzz_partial_token_sort_ratio=fuzz.partial_token_sort_ratio(str(question1), str(question2))\n",
    "fuzz_token_set_ratio=fuzz.token_set_ratio(str(question1), str(question2))\n",
    "fuzz_token_sort_ratio=fuzz.token_sort_ratio(str(question1), str(question2))"
   ]
  },
  {
   "cell_type": "code",
   "execution_count": 5,
   "metadata": {},
   "outputs": [
    {
     "name": "stderr",
     "output_type": "stream",
     "text": [
      "c:\\users\\hk\\appdata\\local\\programs\\python\\python36\\lib\\site-packages\\gensim\\utils.py:860: UserWarning: detected Windows; aliasing chunkize to chunkize_serial\n",
      "  warnings.warn(\"detected Windows; aliasing chunkize to chunkize_serial\")\n"
     ]
    }
   ],
   "source": [
    "import gensim\n",
    "model = gensim.models.KeyedVectors.load_word2vec_format('GoogleNews-vectors-negative300.bin', binary=True)"
   ]
  },
  {
   "cell_type": "code",
   "execution_count": 6,
   "metadata": {},
   "outputs": [],
   "source": [
    "#sen2vec\n",
    "import scipy\n",
    "error_count = 0\n",
    "from nltk import word_tokenize\n",
    "from nltk.corpus import stopwords\n",
    "stop_words = stopwords.words('english')\n",
    "def sent2vec(s):\n",
    "    words = str(s).lower() # .decode('utf-8') ahile kaam lagdaina\n",
    "    words = word_tokenize(words)\n",
    "    words = [w for w in words if not w in stop_words]\n",
    "    words = [w for w in words if w.isalpha()]\n",
    "    M = []\n",
    "    for w in words:\n",
    "        try:\n",
    "            M.append(model[w])\n",
    "        except:\n",
    "            continue\n",
    "    M = np.array(M)\n",
    "    v = M.sum(axis=0)\n",
    "    return v / np.sqrt((v ** 2).sum())\n",
    "question1_vector=sent2vec(question1)\n",
    "question2_vector=sent2vec(question2)"
   ]
  },
  {
   "cell_type": "code",
   "execution_count": 7,
   "metadata": {},
   "outputs": [],
   "source": [
    "#cosine distances\n",
    "from scipy.spatial.distance import cosine, cityblock, jaccard, canberra, euclidean, minkowski, braycurtis\n",
    "cosine_distance= cosine(question1_vector,question2_vector)\n",
    "cityblock_distance=cityblock(question1_vector,question2_vector)\n",
    "jaccard_distance=jaccard(question1_vector,question2_vector)\n",
    "canberra_distance=canberra(question1_vector,question2_vector)\n",
    "euclidean_distance=euclidean(question1_vector,question2_vector)\n",
    "minkowski_distance=minkowski(question1_vector,question2_vector,3)\n",
    "braycurtis_distance=braycurtis(question1_vector,question2_vector)"
   ]
  },
  {
   "cell_type": "code",
   "execution_count": 8,
   "metadata": {},
   "outputs": [],
   "source": [
    "#prediction with classifier\n",
    "question=np.array([[diff_len,common_words,fuzz_qratio,fuzz_WRatio,fuzz_partial_ratio,fuzz_partial_token_set_ratio,fuzz_partial_token_sort_ratio,\n",
    "          fuzz_token_set_ratio,fuzz_token_sort_ratio,cosine_distance,cityblock_distance,canberra_distance,euclidean_distance,minkowski_distance,\n",
    "          braycurtis_distance]])\n"
   ]
  },
  {
   "cell_type": "code",
   "execution_count": 14,
   "metadata": {},
   "outputs": [],
   "source": [
    "from keras.models import load_model\n",
    "model = load_model('ANNmodel.h5')\n",
    "result=model.predict(question)"
   ]
  },
  {
   "cell_type": "code",
   "execution_count": 15,
   "metadata": {},
   "outputs": [
    {
     "data": {
      "text/plain": [
       "array([[3.488578e-27]], dtype=float32)"
      ]
     },
     "execution_count": 15,
     "metadata": {},
     "output_type": "execute_result"
    }
   ],
   "source": [
    "result"
   ]
  },
  {
   "cell_type": "code",
   "execution_count": null,
   "metadata": {},
   "outputs": [],
   "source": []
  },
  {
   "cell_type": "code",
   "execution_count": null,
   "metadata": {},
   "outputs": [],
   "source": []
  },
  {
   "cell_type": "code",
   "execution_count": null,
   "metadata": {},
   "outputs": [],
   "source": []
  }
 ],
 "metadata": {
  "kernelspec": {
   "display_name": "Python 3",
   "language": "python",
   "name": "python3"
  },
  "language_info": {
   "codemirror_mode": {
    "name": "ipython",
    "version": 3
   },
   "file_extension": ".py",
   "mimetype": "text/x-python",
   "name": "python",
   "nbconvert_exporter": "python",
   "pygments_lexer": "ipython3",
   "version": "3.6.1"
  }
 },
 "nbformat": 4,
 "nbformat_minor": 2
}
